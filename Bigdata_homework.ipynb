{
 "cells": [
  {
   "cell_type": "code",
   "execution_count": 1,
   "metadata": {},
   "outputs": [
    {
     "name": "stdout",
     "output_type": "stream",
     "text": [
      "['NanumGothic']\n",
      "C:\\Users\\Revo\\AppData\\Local\\Programs\\Python\\Python39\\lib\\site-packages\\matplotlib\\mpl-data\\matplotlibrc\n",
      "C:\\Users\\Revo\\.matplotlib\n"
     ]
    },
    {
     "data": {
      "text/plain": [
       "(13740, 20)"
      ]
     },
     "execution_count": 1,
     "metadata": {},
     "output_type": "execute_result"
    }
   ],
   "source": [
    "import matplotlib.pyplot as plt\n",
    "import pandas as pd\n",
    "import matplotlib\n",
    "import numpy as np\n",
    "from matplotlib import rc\n",
    "\n",
    "plt.rc('font',family='NanumGothic')\n",
    "print(plt.rcParams['font.family'])\n",
    "print(matplotlib.matplotlib_fname())\n",
    "\n",
    "df = pd.read_csv(\"./치매현황.csv\", encoding=\"cp949\")\n",
    "print(matplotlib.get_cachedir())\n",
    "\n",
    "df.shape\n"
   ]
  },
  {
   "cell_type": "code",
   "execution_count": 2,
   "metadata": {},
   "outputs": [
    {
     "data": {
      "text/plain": [
       "Index(['시점', '행정구역(시도)별', '행정구역(기초)별', '성별', '연령별', '노인인구수', '치매환자수',\n",
       "       '치매환자유병률', '최경도 환자', '경도 환자', '중등도 환자', '중증 환자', '알츠하이머 환자수',\n",
       "       '알츠하이머 환자유병률', '혈관성치매 환자수', '혈관성치매 환자유병률', '기타 환자환자수', '기타 환자유병률',\n",
       "       '경도인지장애 환자수', '경도인지장애 환자유병률'],\n",
       "      dtype='object')"
      ]
     },
     "execution_count": 2,
     "metadata": {},
     "output_type": "execute_result"
    }
   ],
   "source": [
    "df.columns"
   ]
  },
  {
   "cell_type": "code",
   "execution_count": 3,
   "metadata": {},
   "outputs": [
    {
     "data": {
      "text/html": [
       "<div>\n",
       "<style scoped>\n",
       "    .dataframe tbody tr th:only-of-type {\n",
       "        vertical-align: middle;\n",
       "    }\n",
       "\n",
       "    .dataframe tbody tr th {\n",
       "        vertical-align: top;\n",
       "    }\n",
       "\n",
       "    .dataframe thead th {\n",
       "        text-align: right;\n",
       "    }\n",
       "</style>\n",
       "<table border=\"1\" class=\"dataframe\">\n",
       "  <thead>\n",
       "    <tr style=\"text-align: right;\">\n",
       "      <th></th>\n",
       "      <th>시점</th>\n",
       "      <th>행정구역(시도)별</th>\n",
       "      <th>성별</th>\n",
       "      <th>연령별</th>\n",
       "      <th>치매환자수</th>\n",
       "      <th>중증 환자</th>\n",
       "    </tr>\n",
       "  </thead>\n",
       "  <tbody>\n",
       "    <tr>\n",
       "      <th>0</th>\n",
       "      <td>2020</td>\n",
       "      <td>전국</td>\n",
       "      <td>전체</td>\n",
       "      <td>60~64세</td>\n",
       "      <td>23350.26</td>\n",
       "      <td>3619.29</td>\n",
       "    </tr>\n",
       "    <tr>\n",
       "      <th>1</th>\n",
       "      <td>2020</td>\n",
       "      <td>전국</td>\n",
       "      <td>전체</td>\n",
       "      <td>65~69세</td>\n",
       "      <td>36620.52</td>\n",
       "      <td>5676.18</td>\n",
       "    </tr>\n",
       "    <tr>\n",
       "      <th>2</th>\n",
       "      <td>2020</td>\n",
       "      <td>전국</td>\n",
       "      <td>전체</td>\n",
       "      <td>70~74세</td>\n",
       "      <td>77236.58</td>\n",
       "      <td>11971.67</td>\n",
       "    </tr>\n",
       "    <tr>\n",
       "      <th>3</th>\n",
       "      <td>2020</td>\n",
       "      <td>전국</td>\n",
       "      <td>전체</td>\n",
       "      <td>75~79세</td>\n",
       "      <td>189626.57</td>\n",
       "      <td>29392.12</td>\n",
       "    </tr>\n",
       "    <tr>\n",
       "      <th>4</th>\n",
       "      <td>2020</td>\n",
       "      <td>전국</td>\n",
       "      <td>전체</td>\n",
       "      <td>80~84세</td>\n",
       "      <td>232892.50</td>\n",
       "      <td>36098.34</td>\n",
       "    </tr>\n",
       "    <tr>\n",
       "      <th>...</th>\n",
       "      <td>...</td>\n",
       "      <td>...</td>\n",
       "      <td>...</td>\n",
       "      <td>...</td>\n",
       "      <td>...</td>\n",
       "      <td>...</td>\n",
       "    </tr>\n",
       "    <tr>\n",
       "      <th>13735</th>\n",
       "      <td>2021</td>\n",
       "      <td>제주특별자치도</td>\n",
       "      <td>여</td>\n",
       "      <td>75~79세</td>\n",
       "      <td>532.92</td>\n",
       "      <td>82.60</td>\n",
       "    </tr>\n",
       "    <tr>\n",
       "      <th>13736</th>\n",
       "      <td>2021</td>\n",
       "      <td>제주특별자치도</td>\n",
       "      <td>여</td>\n",
       "      <td>80~84세</td>\n",
       "      <td>778.05</td>\n",
       "      <td>120.60</td>\n",
       "    </tr>\n",
       "    <tr>\n",
       "      <th>13737</th>\n",
       "      <td>2021</td>\n",
       "      <td>제주특별자치도</td>\n",
       "      <td>여</td>\n",
       "      <td>85세이상</td>\n",
       "      <td>1134.00</td>\n",
       "      <td>175.77</td>\n",
       "    </tr>\n",
       "    <tr>\n",
       "      <th>13738</th>\n",
       "      <td>2021</td>\n",
       "      <td>제주특별자치도</td>\n",
       "      <td>여</td>\n",
       "      <td>60세이상</td>\n",
       "      <td>2645.05</td>\n",
       "      <td>409.98</td>\n",
       "    </tr>\n",
       "    <tr>\n",
       "      <th>13739</th>\n",
       "      <td>2021</td>\n",
       "      <td>제주특별자치도</td>\n",
       "      <td>여</td>\n",
       "      <td>65세이상</td>\n",
       "      <td>2637.09</td>\n",
       "      <td>408.75</td>\n",
       "    </tr>\n",
       "  </tbody>\n",
       "</table>\n",
       "<p>13740 rows × 6 columns</p>\n",
       "</div>"
      ],
      "text/plain": [
       "         시점 행정구역(시도)별  성별     연령별      치매환자수     중증 환자\n",
       "0      2020        전국  전체  60~64세   23350.26   3619.29\n",
       "1      2020        전국  전체  65~69세   36620.52   5676.18\n",
       "2      2020        전국  전체  70~74세   77236.58  11971.67\n",
       "3      2020        전국  전체  75~79세  189626.57  29392.12\n",
       "4      2020        전국  전체  80~84세  232892.50  36098.34\n",
       "...     ...       ...  ..     ...        ...       ...\n",
       "13735  2021   제주특별자치도   여  75~79세     532.92     82.60\n",
       "13736  2021   제주특별자치도   여  80~84세     778.05    120.60\n",
       "13737  2021   제주특별자치도   여   85세이상    1134.00    175.77\n",
       "13738  2021   제주특별자치도   여   60세이상    2645.05    409.98\n",
       "13739  2021   제주특별자치도   여   65세이상    2637.09    408.75\n",
       "\n",
       "[13740 rows x 6 columns]"
      ]
     },
     "execution_count": 3,
     "metadata": {},
     "output_type": "execute_result"
    }
   ],
   "source": [
    "data = df[[\"시점\", \"행정구역(시도)별\", \"성별\", \"연령별\", \"치매환자수\", \"중증 환자\"]]\n",
    "\n",
    "data"
   ]
  },
  {
   "cell_type": "markdown",
   "metadata": {},
   "source": [
    "## 년도별 환자 데이터 나누기"
   ]
  },
  {
   "cell_type": "code",
   "execution_count": 4,
   "metadata": {},
   "outputs": [
    {
     "data": {
      "text/html": [
       "<div>\n",
       "<style scoped>\n",
       "    .dataframe tbody tr th:only-of-type {\n",
       "        vertical-align: middle;\n",
       "    }\n",
       "\n",
       "    .dataframe tbody tr th {\n",
       "        vertical-align: top;\n",
       "    }\n",
       "\n",
       "    .dataframe thead th {\n",
       "        text-align: right;\n",
       "    }\n",
       "</style>\n",
       "<table border=\"1\" class=\"dataframe\">\n",
       "  <thead>\n",
       "    <tr style=\"text-align: right;\">\n",
       "      <th></th>\n",
       "      <th>시점</th>\n",
       "      <th>행정구역(시도)별</th>\n",
       "      <th>성별</th>\n",
       "      <th>연령별</th>\n",
       "      <th>치매환자수</th>\n",
       "      <th>중증 환자</th>\n",
       "    </tr>\n",
       "  </thead>\n",
       "  <tbody>\n",
       "    <tr>\n",
       "      <th>6700</th>\n",
       "      <td>2022</td>\n",
       "      <td>서울특별시</td>\n",
       "      <td>전체</td>\n",
       "      <td>60세이상</td>\n",
       "      <td>159334.0</td>\n",
       "      <td>24697.0</td>\n",
       "    </tr>\n",
       "    <tr>\n",
       "      <th>6722</th>\n",
       "      <td>2022</td>\n",
       "      <td>부산광역시</td>\n",
       "      <td>전체</td>\n",
       "      <td>60세이상</td>\n",
       "      <td>66492.0</td>\n",
       "      <td>10306.0</td>\n",
       "    </tr>\n",
       "    <tr>\n",
       "      <th>6744</th>\n",
       "      <td>2022</td>\n",
       "      <td>대구광역시</td>\n",
       "      <td>전체</td>\n",
       "      <td>60세이상</td>\n",
       "      <td>43479.0</td>\n",
       "      <td>6739.0</td>\n",
       "    </tr>\n",
       "    <tr>\n",
       "      <th>6766</th>\n",
       "      <td>2022</td>\n",
       "      <td>인천광역시</td>\n",
       "      <td>전체</td>\n",
       "      <td>60세이상</td>\n",
       "      <td>45425.0</td>\n",
       "      <td>7041.0</td>\n",
       "    </tr>\n",
       "    <tr>\n",
       "      <th>6788</th>\n",
       "      <td>2022</td>\n",
       "      <td>광주광역시</td>\n",
       "      <td>전체</td>\n",
       "      <td>60세이상</td>\n",
       "      <td>23358.0</td>\n",
       "      <td>3621.0</td>\n",
       "    </tr>\n",
       "    <tr>\n",
       "      <th>6810</th>\n",
       "      <td>2022</td>\n",
       "      <td>대전광역시</td>\n",
       "      <td>전체</td>\n",
       "      <td>60세이상</td>\n",
       "      <td>23652.0</td>\n",
       "      <td>3666.0</td>\n",
       "    </tr>\n",
       "    <tr>\n",
       "      <th>6832</th>\n",
       "      <td>2022</td>\n",
       "      <td>울산광역시</td>\n",
       "      <td>전체</td>\n",
       "      <td>60세이상</td>\n",
       "      <td>13749.0</td>\n",
       "      <td>2131.0</td>\n",
       "    </tr>\n",
       "    <tr>\n",
       "      <th>6854</th>\n",
       "      <td>2022</td>\n",
       "      <td>세종특별자치시</td>\n",
       "      <td>전체</td>\n",
       "      <td>60세이상</td>\n",
       "      <td>3893.0</td>\n",
       "      <td>603.0</td>\n",
       "    </tr>\n",
       "    <tr>\n",
       "      <th>6876</th>\n",
       "      <td>2022</td>\n",
       "      <td>경기도</td>\n",
       "      <td>전체</td>\n",
       "      <td>60세이상</td>\n",
       "      <td>201528.0</td>\n",
       "      <td>31237.0</td>\n",
       "    </tr>\n",
       "    <tr>\n",
       "      <th>6898</th>\n",
       "      <td>2022</td>\n",
       "      <td>강원도</td>\n",
       "      <td>전체</td>\n",
       "      <td>60세이상</td>\n",
       "      <td>37659.0</td>\n",
       "      <td>5837.0</td>\n",
       "    </tr>\n",
       "    <tr>\n",
       "      <th>6920</th>\n",
       "      <td>2022</td>\n",
       "      <td>충청북도</td>\n",
       "      <td>전체</td>\n",
       "      <td>60세이상</td>\n",
       "      <td>34355.0</td>\n",
       "      <td>5325.0</td>\n",
       "    </tr>\n",
       "    <tr>\n",
       "      <th>6942</th>\n",
       "      <td>2022</td>\n",
       "      <td>충청남도</td>\n",
       "      <td>전체</td>\n",
       "      <td>60세이상</td>\n",
       "      <td>51000.0</td>\n",
       "      <td>7905.0</td>\n",
       "    </tr>\n",
       "    <tr>\n",
       "      <th>6964</th>\n",
       "      <td>2022</td>\n",
       "      <td>전라북도</td>\n",
       "      <td>전체</td>\n",
       "      <td>60세이상</td>\n",
       "      <td>47089.0</td>\n",
       "      <td>7299.0</td>\n",
       "    </tr>\n",
       "    <tr>\n",
       "      <th>6986</th>\n",
       "      <td>2022</td>\n",
       "      <td>전라남도</td>\n",
       "      <td>전체</td>\n",
       "      <td>60세이상</td>\n",
       "      <td>52715.0</td>\n",
       "      <td>8171.0</td>\n",
       "    </tr>\n",
       "    <tr>\n",
       "      <th>7008</th>\n",
       "      <td>2022</td>\n",
       "      <td>경상북도</td>\n",
       "      <td>전체</td>\n",
       "      <td>60세이상</td>\n",
       "      <td>68233.0</td>\n",
       "      <td>10576.0</td>\n",
       "    </tr>\n",
       "    <tr>\n",
       "      <th>7030</th>\n",
       "      <td>2022</td>\n",
       "      <td>경상남도</td>\n",
       "      <td>전체</td>\n",
       "      <td>60세이상</td>\n",
       "      <td>65576.0</td>\n",
       "      <td>10164.0</td>\n",
       "    </tr>\n",
       "    <tr>\n",
       "      <th>7052</th>\n",
       "      <td>2022</td>\n",
       "      <td>제주특별자치도</td>\n",
       "      <td>전체</td>\n",
       "      <td>60세이상</td>\n",
       "      <td>12815.0</td>\n",
       "      <td>1986.0</td>\n",
       "    </tr>\n",
       "  </tbody>\n",
       "</table>\n",
       "</div>"
      ],
      "text/plain": [
       "        시점 행정구역(시도)별  성별    연령별     치매환자수    중증 환자\n",
       "6700  2022     서울특별시  전체  60세이상  159334.0  24697.0\n",
       "6722  2022     부산광역시  전체  60세이상   66492.0  10306.0\n",
       "6744  2022     대구광역시  전체  60세이상   43479.0   6739.0\n",
       "6766  2022     인천광역시  전체  60세이상   45425.0   7041.0\n",
       "6788  2022     광주광역시  전체  60세이상   23358.0   3621.0\n",
       "6810  2022     대전광역시  전체  60세이상   23652.0   3666.0\n",
       "6832  2022     울산광역시  전체  60세이상   13749.0   2131.0\n",
       "6854  2022   세종특별자치시  전체  60세이상    3893.0    603.0\n",
       "6876  2022       경기도  전체  60세이상  201528.0  31237.0\n",
       "6898  2022       강원도  전체  60세이상   37659.0   5837.0\n",
       "6920  2022      충청북도  전체  60세이상   34355.0   5325.0\n",
       "6942  2022      충청남도  전체  60세이상   51000.0   7905.0\n",
       "6964  2022      전라북도  전체  60세이상   47089.0   7299.0\n",
       "6986  2022      전라남도  전체  60세이상   52715.0   8171.0\n",
       "7008  2022      경상북도  전체  60세이상   68233.0  10576.0\n",
       "7030  2022      경상남도  전체  60세이상   65576.0  10164.0\n",
       "7052  2022   제주특별자치도  전체  60세이상   12815.0   1986.0"
      ]
     },
     "execution_count": 4,
     "metadata": {},
     "output_type": "execute_result"
    }
   ],
   "source": [
    "df2020 = data.loc[(data[\"시점\"] == 2020) & (data[\"행정구역(시도)별\"] == df[\"행정구역(기초)별\"]) & (data[\"연령별\"] == \"60세이상\") & (data[\"성별\"] == \"전체\")]\n",
    "df2021 = data.loc[(data[\"시점\"] == 2021) & (data[\"행정구역(시도)별\"] == df[\"행정구역(기초)별\"]) & (data[\"연령별\"] == \"60세이상\") & (data[\"성별\"] == \"전체\")]\n",
    "df2022 = data.loc[(data[\"시점\"] == 2022) & (data[\"행정구역(시도)별\"] == df[\"행정구역(기초)별\"]) & (data[\"연령별\"] == \"60세이상\") & (data[\"성별\"] == \"전체\")]\n",
    "\n",
    "df2022"
   ]
  },
  {
   "cell_type": "markdown",
   "metadata": {},
   "source": [
    "## 행정구역별 치매 환자 수 구하기"
   ]
  },
  {
   "cell_type": "code",
   "execution_count": 5,
   "metadata": {},
   "outputs": [
    {
     "data": {
      "text/plain": [
       "<matplotlib.legend.Legend at 0x1f29ca646d0>"
      ]
     },
     "execution_count": 5,
     "metadata": {},
     "output_type": "execute_result"
    },
    {
     "data": {
      "image/png": "[encoded data removed]",
      "text/plain": [
       "<Figure size 432x288 with 1 Axes>"
      ]
     },
     "metadata": {
      "needs_background": "light"
     },
     "output_type": "display_data"
    }
   ],
   "source": [
    "df1 = df2022[[\"행정구역(시도)별\", \"치매환자수\", \"중증 환자\"]]\n",
    "df1 = df1.sort_values(by = \"치매환자수\", ascending=True)\n",
    "df1[\"치매환자수\"] = (df1[\"치매환자수\"]) / 10000\n",
    "df1[\"중증 환자\"] = (df1[\"중증 환자\"]) / 10000\n",
    "xs = df1[\"행정구역(시도)별\"].to_list()\n",
    "idx = np.arange(len(xs))\n",
    "\n",
    "plt.xlabel('치매 환자 수(단위 : 만명)')\n",
    "plt.xlim(0, 22)\n",
    "plt.grid(True, axis=\"x\")\n",
    "plt.yticks(idx, xs)  \n",
    "\n",
    "title_font = {\n",
    "    'fontsize' : 20,\n",
    "    'fontweight': 'bold'\n",
    "}\n",
    "plt.title(\"행정 구역 별 치매 환자 수\", fontdict=title_font, pad=10)\n",
    "plt.barh(idx, df1[\"치매환자수\"], height=0.7, label=\"치매 환자\")\n",
    "plt.barh(idx, df1[\"중증 환자\"], color='red', height=0.7, label=\"중증 환자\")      \n",
    "plt.legend(loc = 'lower right')"
   ]
  },
  {
   "cell_type": "code",
   "execution_count": 6,
   "metadata": {},
   "outputs": [
    {
     "data": {
      "text/plain": [
       "<matplotlib.legend.Legend at 0x1f29eb61910>"
      ]
     },
     "execution_count": 6,
     "metadata": {},
     "output_type": "execute_result"
    },
    {
     "data": {
      "image/png": "[encoded data removed]",
      "text/plain": [
       "<Figure size 432x288 with 1 Axes>"
      ]
     },
     "metadata": {
      "needs_background": "light"
     },
     "output_type": "display_data"
    }
   ],
   "source": [
    "p = df2022[\"중증 환자\"] * 100 / df2022[\"치매환자수\"]\n",
    "\n",
    "xs = df1[\"행정구역(시도)별\"].to_list()\n",
    "idx = np.arange(len(xs))\n",
    "\n",
    "plt.xlabel('중증 환자 비율')\n",
    "plt.xlim(0, 30)\n",
    "plt.grid(True, axis=\"x\")\n",
    "plt.yticks(idx, xs)  \n",
    "\n",
    "title_font = {\n",
    "    'fontsize' : 20,\n",
    "    'fontweight': 'bold'\n",
    "}\n",
    "\n",
    "plt.title(\"행정 구역 별 중증 환자 비율\", fontdict=title_font, pad=10)\n",
    "plt.barh(idx, p, height=0.7, label=\"중증 환자 비율\")    \n",
    "plt.legend(loc = 'lower right')"
   ]
  },
  {
   "cell_type": "code",
   "execution_count": 7,
   "metadata": {},
   "outputs": [
    {
     "data": {
      "text/plain": [
       "<function matplotlib.pyplot.show(close=None, block=None)>"
      ]
     },
     "execution_count": 7,
     "metadata": {},
     "output_type": "execute_result"
    },
    {
     "data": {
      "image/png": "[encoded data removed]",
      "text/plain": [
       "<Figure size 432x288 with 1 Axes>"
      ]
     },
     "metadata": {
      "needs_background": "light"
     },
     "output_type": "display_data"
    }
   ],
   "source": [
    "p2020 = np.mean(df2020[\"중증 환자\"] * 100 / df2020[\"치매환자수\"])\n",
    "p2021 = np.mean(df2021[\"중증 환자\"] * 100 / df2021[\"치매환자수\"])\n",
    "p2022 = np.mean(df2022[\"중증 환자\"] * 100 / df2022[\"치매환자수\"])\n",
    "\n",
    "xs = [\"전국 2020\", \"전국 2021\", \"전국 2022\"]\n",
    "idx = np.arange(len(xs))\n",
    "plt.ylim(0, 20)\n",
    "\n",
    "plt.bar(xs[0], p2020, width=0.5)\n",
    "plt.bar(xs[1], p2021, width=0.5)\n",
    "plt.bar(xs[2], p2022, width=0.5)\n",
    "\n",
    "plt.title(\"년도별 중증 환자 비율\", fontdict=title_font, pad=10)\n",
    "\n",
    "plt.show"
   ]
  }
 ],
 "metadata": {
  "kernelspec": {
   "display_name": "Python 3 (ipykernel)",
   "language": "python",
   "name": "python3"
  },
  "language_info": {
   "codemirror_mode": {
    "name": "ipython",
    "version": 3
   },
   "file_extension": ".py",
   "mimetype": "text/x-python",
   "name": "python",
   "nbconvert_exporter": "python",
   "pygments_lexer": "ipython3",
   "version": "3.9.5"
  },
  "orig_nbformat": 4,
  "vscode": {
   "interpreter": {
    "hash": "d07e2768d665205303684de8508d9079185692021437b341c911edcaecb04f40"
   }
  }
 },
 "nbformat": 4,
 "nbformat_minor": 2
}
